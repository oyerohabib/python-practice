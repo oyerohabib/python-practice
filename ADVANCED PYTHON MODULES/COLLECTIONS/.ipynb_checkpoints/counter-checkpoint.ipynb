{
 "cells": [
  {
   "cell_type": "code",
   "execution_count": 1,
   "metadata": {},
   "outputs": [],
   "source": [
    "from collections import Counter"
   ]
  },
  {
   "cell_type": "code",
   "execution_count": 2,
   "metadata": {},
   "outputs": [
    {
     "data": {
      "text/plain": [
       "Counter({1: 3, 2: 3, 3: 3, 4: 4, 5: 3, 6: 2, 7: 2, 8: 1})"
      ]
     },
     "execution_count": 2,
     "metadata": {},
     "output_type": "execute_result"
    }
   ],
   "source": [
    "l = [1,1,1,2,2,2,3,3,3,4,4,4,4,5,5,5,6,6,7,7,8]\n",
    "Counter(l)"
   ]
  },
  {
   "cell_type": "code",
   "execution_count": 4,
   "metadata": {},
   "outputs": [
    {
     "data": {
      "text/plain": [
       "Counter({'H': 1,\n",
       "         'e': 1,\n",
       "         'l': 7,\n",
       "         'o': 4,\n",
       "         ' ': 3,\n",
       "         'w': 1,\n",
       "         'r': 2,\n",
       "         'd': 2,\n",
       "         'W': 1,\n",
       "         'E': 2,\n",
       "         'L': 1})"
      ]
     },
     "execution_count": 4,
     "metadata": {},
     "output_type": "execute_result"
    }
   ],
   "source": [
    "s = \"Helllo world World EEllLo\"\n",
    "Counter(s)"
   ]
  },
  {
   "cell_type": "code",
   "execution_count": 5,
   "metadata": {},
   "outputs": [
    {
     "data": {
      "text/plain": [
       "Counter({'are': 2,\n",
       "         'you': 2,\n",
       "         'going': 3,\n",
       "         'to': 1,\n",
       "         'that': 1,\n",
       "         'place': 1,\n",
       "         'with': 2,\n",
       "         'me': 1,\n",
       "         'or': 1,\n",
       "         'not': 1,\n",
       "         'me.': 1,\n",
       "         'Going': 1,\n",
       "         'Me': 1,\n",
       "         'To': 1})"
      ]
     },
     "execution_count": 5,
     "metadata": {},
     "output_type": "execute_result"
    }
   ],
   "source": [
    "words = \"are you going to that place with me or are you not going with me. Going going Me To\"\n",
    "word = words.split()\n",
    "Counter(word)"
   ]
  },
  {
   "cell_type": "code",
   "execution_count": 9,
   "metadata": {},
   "outputs": [
    {
     "data": {
      "text/plain": [
       "[('going', 3), ('are', 2), ('you', 2)]"
      ]
     },
     "execution_count": 9,
     "metadata": {},
     "output_type": "execute_result"
    }
   ],
   "source": [
    "c = Counter(word)\n",
    "c.most_common(3)"
   ]
  },
  {
   "cell_type": "code",
   "execution_count": 10,
   "metadata": {},
   "outputs": [
    {
     "data": {
      "text/plain": [
       "19"
      ]
     },
     "execution_count": 10,
     "metadata": {},
     "output_type": "execute_result"
    }
   ],
   "source": [
    "sum(c.values())"
   ]
  },
  {
   "cell_type": "code",
   "execution_count": 12,
   "metadata": {},
   "outputs": [
    {
     "data": {
      "text/plain": [
       "83"
      ]
     },
     "execution_count": 12,
     "metadata": {},
     "output_type": "execute_result"
    }
   ],
   "source": [
    "sum(Counter(words).values())"
   ]
  },
  {
   "cell_type": "code",
   "execution_count": 13,
   "metadata": {},
   "outputs": [
    {
     "name": "stdout",
     "output_type": "stream",
     "text": [
      "None\n"
     ]
    }
   ],
   "source": [
    "print(c.clear())"
   ]
  },
  {
   "cell_type": "code",
   "execution_count": 53,
   "metadata": {},
   "outputs": [],
   "source": [
    "a = Counter(word)"
   ]
  },
  {
   "cell_type": "code",
   "execution_count": 54,
   "metadata": {},
   "outputs": [
    {
     "data": {
      "text/plain": [
       "Counter({'are': 2,\n",
       "         'you': 2,\n",
       "         'going': 3,\n",
       "         'to': 1,\n",
       "         'that': 1,\n",
       "         'place': 1,\n",
       "         'with': 2,\n",
       "         'me': 1,\n",
       "         'or': 1,\n",
       "         'not': 1,\n",
       "         'me.': 1,\n",
       "         'Going': 1,\n",
       "         'Me': 1,\n",
       "         'To': 1})"
      ]
     },
     "execution_count": 54,
     "metadata": {},
     "output_type": "execute_result"
    }
   ],
   "source": [
    "a"
   ]
  },
  {
   "cell_type": "code",
   "execution_count": 55,
   "metadata": {},
   "outputs": [
    {
     "data": {
      "text/plain": [
       "['are',\n",
       " 'you',\n",
       " 'going',\n",
       " 'to',\n",
       " 'that',\n",
       " 'place',\n",
       " 'with',\n",
       " 'me',\n",
       " 'or',\n",
       " 'not',\n",
       " 'me.',\n",
       " 'Going',\n",
       " 'Me',\n",
       " 'To']"
      ]
     },
     "execution_count": 55,
     "metadata": {},
     "output_type": "execute_result"
    }
   ],
   "source": [
    "list(a)"
   ]
  },
  {
   "cell_type": "code",
   "execution_count": 56,
   "metadata": {},
   "outputs": [
    {
     "data": {
      "text/plain": [
       "{'Going',\n",
       " 'Me',\n",
       " 'To',\n",
       " 'are',\n",
       " 'going',\n",
       " 'me',\n",
       " 'me.',\n",
       " 'not',\n",
       " 'or',\n",
       " 'place',\n",
       " 'that',\n",
       " 'to',\n",
       " 'with',\n",
       " 'you'}"
      ]
     },
     "execution_count": 56,
     "metadata": {},
     "output_type": "execute_result"
    }
   ],
   "source": [
    "set(a)"
   ]
  },
  {
   "cell_type": "code",
   "execution_count": 57,
   "metadata": {},
   "outputs": [
    {
     "data": {
      "text/plain": [
       "{'are': 2,\n",
       " 'you': 2,\n",
       " 'going': 3,\n",
       " 'to': 1,\n",
       " 'that': 1,\n",
       " 'place': 1,\n",
       " 'with': 2,\n",
       " 'me': 1,\n",
       " 'or': 1,\n",
       " 'not': 1,\n",
       " 'me.': 1,\n",
       " 'Going': 1,\n",
       " 'Me': 1,\n",
       " 'To': 1}"
      ]
     },
     "execution_count": 57,
     "metadata": {},
     "output_type": "execute_result"
    }
   ],
   "source": [
    "dict(a)"
   ]
  },
  {
   "cell_type": "code",
   "execution_count": 58,
   "metadata": {},
   "outputs": [
    {
     "data": {
      "text/plain": [
       "Counter({'are': 2,\n",
       "         'you': 2,\n",
       "         'going': 3,\n",
       "         'to': 1,\n",
       "         'that': 1,\n",
       "         'place': 1,\n",
       "         'with': 2,\n",
       "         'me': 1,\n",
       "         'or': 1,\n",
       "         'not': 1,\n",
       "         'me.': 1,\n",
       "         'Going': 1,\n",
       "         'Me': 1,\n",
       "         'To': 1})"
      ]
     },
     "execution_count": 58,
     "metadata": {},
     "output_type": "execute_result"
    }
   ],
   "source": [
    "a"
   ]
  },
  {
   "cell_type": "code",
   "execution_count": 59,
   "metadata": {},
   "outputs": [
    {
     "data": {
      "text/plain": [
       "dict_items([('are', 2), ('you', 2), ('going', 3), ('to', 1), ('that', 1), ('place', 1), ('with', 2), ('me', 1), ('or', 1), ('not', 1), ('me.', 1), ('Going', 1), ('Me', 1), ('To', 1)])"
      ]
     },
     "execution_count": 59,
     "metadata": {},
     "output_type": "execute_result"
    }
   ],
   "source": [
    "a.items()"
   ]
  },
  {
   "cell_type": "code",
   "execution_count": 63,
   "metadata": {},
   "outputs": [
    {
     "data": {
      "text/plain": [
       "Counter({'are': 2,\n",
       "         'you': 2,\n",
       "         'going': 3,\n",
       "         'to': 1,\n",
       "         'that': 1,\n",
       "         'place': 1,\n",
       "         'with': 2,\n",
       "         'me': 1,\n",
       "         'or': 1,\n",
       "         'not': 1,\n",
       "         'me.': 1,\n",
       "         'Going': 1,\n",
       "         'Me': 1,\n",
       "         'To': 1})"
      ]
     },
     "execution_count": 63,
     "metadata": {},
     "output_type": "execute_result"
    }
   ],
   "source": [
    "Counter(dict(a.items()))"
   ]
  },
  {
   "cell_type": "code",
   "execution_count": 64,
   "metadata": {},
   "outputs": [
    {
     "data": {
      "text/plain": [
       "{'are': 2,\n",
       " 'you': 2,\n",
       " 'going': 3,\n",
       " 'to': 1,\n",
       " 'that': 1,\n",
       " 'place': 1,\n",
       " 'with': 2,\n",
       " 'me': 1,\n",
       " 'or': 1,\n",
       " 'not': 1,\n",
       " 'me.': 1,\n",
       " 'Going': 1,\n",
       " 'Me': 1,\n",
       " 'To': 1}"
      ]
     },
     "execution_count": 64,
     "metadata": {},
     "output_type": "execute_result"
    }
   ],
   "source": [
    "dict(a.items())"
   ]
  },
  {
   "cell_type": "code",
   "execution_count": 68,
   "metadata": {},
   "outputs": [
    {
     "data": {
      "text/plain": [
       "[('To', 1),\n",
       " ('Me', 1),\n",
       " ('Going', 1),\n",
       " ('me.', 1),\n",
       " ('not', 1),\n",
       " ('or', 1),\n",
       " ('me', 1),\n",
       " ('place', 1),\n",
       " ('that', 1),\n",
       " ('to', 1),\n",
       " ('with', 2),\n",
       " ('you', 2),\n",
       " ('are', 2),\n",
       " ('going', 3)]"
      ]
     },
     "execution_count": 68,
     "metadata": {},
     "output_type": "execute_result"
    }
   ],
   "source": [
    "a.most_common()[::-1]"
   ]
  },
  {
   "cell_type": "code",
   "execution_count": 69,
   "metadata": {},
   "outputs": [],
   "source": [
    "a += Counter()"
   ]
  }
 ],
 "metadata": {
  "kernelspec": {
   "display_name": "Python 3",
   "language": "python",
   "name": "python3"
  },
  "language_info": {
   "codemirror_mode": {
    "name": "ipython",
    "version": 3
   },
   "file_extension": ".py",
   "mimetype": "text/x-python",
   "name": "python",
   "nbconvert_exporter": "python",
   "pygments_lexer": "ipython3",
   "version": "3.8.5"
  }
 },
 "nbformat": 4,
 "nbformat_minor": 4
}
