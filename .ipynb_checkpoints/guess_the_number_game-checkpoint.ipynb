{
 "cells": [
  {
   "cell_type": "markdown",
   "metadata": {},
   "source": [
    "# GUESS THE NUMBER GAME"
   ]
  },
  {
   "cell_type": "code",
   "execution_count": 1,
   "metadata": {},
   "outputs": [
    {
     "name": "stdout",
     "output_type": "stream",
     "text": [
      "WELCOME TO GUESS ME!\n",
      "I'm thinking of a number between 1 and 100\n",
      "If your guess is more than 10 away from my number, I'll tell you you're COLD\n",
      "If your guess is within 10 of my number, I'll tell you you're WARM\n",
      "If your guess is farther than your most recent guess, I'll say you're getting COLDER\n",
      "If your guess is closer than your most recent guess, I'll say you're getting WARMER\n",
      "LET'S PLAY!\n",
      "What is your guess? 50\n",
      "COLD!\n",
      "What is your guess? 80\n",
      "COLDER!\n",
      "What is your guess? 30\n",
      "WARMER!\n",
      "What is your guess? 20\n",
      "WARMER!\n",
      "What is your guess? 15\n",
      "COLDER!\n",
      "What is your guess? 18\n",
      "WARMER!\n",
      "What is your guess? 19\n",
      "CONGRATULATIONS, YOU GUESSED IT IN ONLY 7 GUESSES!!\n",
      "Would you like to replay: Enter Yes or No: yes\n",
      "What is your guess? 19\n",
      "WARMER!\n",
      "What is your guess? 30\n",
      "WARMER!\n",
      "What is your guess? 40\n",
      "WARMER!\n",
      "What is your guess? 50\n",
      "CONGRATULATIONS, YOU GUESSED IT IN ONLY 10 GUESSES!!\n",
      "Would you like to replay: Enter Yes or No: 50\n",
      "Game ended: Thanks for playing\n"
     ]
    }
   ],
   "source": [
    "import random\n",
    "\n",
    "num = random.randint(1,100)\n",
    "\n",
    "print(\"WELCOME TO GUESS ME!\")\n",
    "print(\"I'm thinking of a number between 1 and 100\")\n",
    "print(\"If your guess is more than 10 away from my number, I'll tell you you're COLD\")\n",
    "print(\"If your guess is within 10 of my number, I'll tell you you're WARM\")\n",
    "print(\"If your guess is farther than your most recent guess, I'll say you're getting COLDER\")\n",
    "print(\"If your guess is closer than your most recent guess, I'll say you're getting WARMER\")\n",
    "print(\"LET'S PLAY!\")\n",
    "\n",
    "guesses = [0]\n",
    "\n",
    "while True:\n",
    "\n",
    "    # we can copy the code from above to take an input\n",
    "    guess = int(input(\"What is your guess? \"))\n",
    "    \n",
    "    if guess < 1 or guess > 100:\n",
    "        print('OUT OF BOUNDS! Please try again: ')\n",
    "        continue\n",
    "    \n",
    "    # here we compare the player's guess to our number\n",
    "    if guess == num:\n",
    "        print(f'CONGRATULATIONS, YOU GUESSED IT IN ONLY {len(guesses)} GUESSES!!')\n",
    "        \n",
    "        will_replay = input(\"Would you like to replay: Enter Yes or No: \")\n",
    "        \n",
    "        if \"y\" in will_replay.lower():\n",
    "            num = random.randint(1,100)\n",
    "            continue\n",
    "        else:\n",
    "            print(\"Game ended: Thanks for playing\")\n",
    "            break\n",
    "        \n",
    "    # if guess is incorrect, add guess to the list\n",
    "    guesses.append(guess)\n",
    "    \n",
    "    # when testing the first guess, guesses[-2]==0, which evaluates to False\n",
    "    # and brings us down to the second section\n",
    "    \n",
    "    if guesses[-2]:  \n",
    "        if abs(num-guess) < abs(num-guesses[-2]):\n",
    "            print('WARMER!')\n",
    "        else:\n",
    "            print('COLDER!')\n",
    "   \n",
    "    else:\n",
    "        if abs(num-guess) <= 10:\n",
    "            print('WARM!')\n",
    "        else:\n",
    "            print('COLD!')"
   ]
  }
 ],
 "metadata": {
  "kernelspec": {
   "display_name": "Python 3",
   "language": "python",
   "name": "python3"
  },
  "language_info": {
   "codemirror_mode": {
    "name": "ipython",
    "version": 3
   },
   "file_extension": ".py",
   "mimetype": "text/x-python",
   "name": "python",
   "nbconvert_exporter": "python",
   "pygments_lexer": "ipython3",
   "version": "3.8.5"
  }
 },
 "nbformat": 4,
 "nbformat_minor": 4
}
